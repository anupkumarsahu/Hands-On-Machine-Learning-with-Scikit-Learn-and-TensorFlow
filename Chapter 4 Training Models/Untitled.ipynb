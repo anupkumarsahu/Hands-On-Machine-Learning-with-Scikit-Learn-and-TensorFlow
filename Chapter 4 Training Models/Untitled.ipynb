{
 "cells": [
  {
   "cell_type": "code",
   "execution_count": 4,
   "metadata": {},
   "outputs": [],
   "source": [
    "import numpy as np"
   ]
  },
  {
   "cell_type": "code",
   "execution_count": 5,
   "metadata": {},
   "outputs": [],
   "source": [
    "X = 2 * np.random.rand(100, 1)"
   ]
  },
  {
   "cell_type": "code",
   "execution_count": 6,
   "metadata": {},
   "outputs": [
    {
     "data": {
      "text/plain": [
       "array([[1.59274489],\n",
       "       [0.3179149 ],\n",
       "       [0.60380703],\n",
       "       [0.9651579 ],\n",
       "       [0.17982474],\n",
       "       [0.49394083],\n",
       "       [0.61141786],\n",
       "       [0.13895873],\n",
       "       [1.96566617],\n",
       "       [1.12773071],\n",
       "       [0.37514627],\n",
       "       [1.83518225],\n",
       "       [1.89969322],\n",
       "       [1.19616268],\n",
       "       [0.7758833 ],\n",
       "       [1.17823719],\n",
       "       [1.40419315],\n",
       "       [1.93713078],\n",
       "       [1.27972014],\n",
       "       [1.80344986],\n",
       "       [0.52204316],\n",
       "       [0.55068347],\n",
       "       [1.58401939],\n",
       "       [0.33874659],\n",
       "       [0.24107273],\n",
       "       [0.77237531],\n",
       "       [0.14715199],\n",
       "       [1.57640081],\n",
       "       [0.33843534],\n",
       "       [1.22369697],\n",
       "       [1.73862707],\n",
       "       [0.07761464],\n",
       "       [1.53175922],\n",
       "       [1.83986011],\n",
       "       [0.67921123],\n",
       "       [1.15282302],\n",
       "       [1.94776427],\n",
       "       [1.8378722 ],\n",
       "       [1.92178792],\n",
       "       [0.50659223],\n",
       "       [1.41166975],\n",
       "       [0.99616263],\n",
       "       [1.67234831],\n",
       "       [1.30880425],\n",
       "       [0.16295703],\n",
       "       [1.86771254],\n",
       "       [1.34672397],\n",
       "       [0.16851446],\n",
       "       [1.11242377],\n",
       "       [1.26507532],\n",
       "       [1.95896901],\n",
       "       [0.50613453],\n",
       "       [0.11840658],\n",
       "       [0.75445806],\n",
       "       [1.43788851],\n",
       "       [0.63155905],\n",
       "       [1.89945823],\n",
       "       [0.68495668],\n",
       "       [0.76357662],\n",
       "       [0.57964969],\n",
       "       [0.33663712],\n",
       "       [1.345629  ],\n",
       "       [1.57204583],\n",
       "       [1.76300285],\n",
       "       [1.07534608],\n",
       "       [1.91871534],\n",
       "       [0.6075432 ],\n",
       "       [0.23955836],\n",
       "       [0.90374837],\n",
       "       [0.56281682],\n",
       "       [0.90889198],\n",
       "       [1.12423708],\n",
       "       [0.40634489],\n",
       "       [1.47032853],\n",
       "       [0.37852032],\n",
       "       [1.0878477 ],\n",
       "       [0.47830881],\n",
       "       [1.70940764],\n",
       "       [1.32154876],\n",
       "       [0.17594932],\n",
       "       [1.80573277],\n",
       "       [1.86587853],\n",
       "       [1.60945613],\n",
       "       [0.12674589],\n",
       "       [0.90525769],\n",
       "       [0.97761669],\n",
       "       [0.40507833],\n",
       "       [0.10215888],\n",
       "       [0.58554483],\n",
       "       [1.05088668],\n",
       "       [0.33023948],\n",
       "       [1.22081609],\n",
       "       [0.44676743],\n",
       "       [0.31879921],\n",
       "       [0.87980201],\n",
       "       [1.94733143],\n",
       "       [0.29137395],\n",
       "       [1.3953634 ],\n",
       "       [1.06508136],\n",
       "       [1.85758205]])"
      ]
     },
     "execution_count": 6,
     "metadata": {},
     "output_type": "execute_result"
    }
   ],
   "source": [
    "X"
   ]
  },
  {
   "cell_type": "code",
   "execution_count": 7,
   "metadata": {},
   "outputs": [],
   "source": [
    "y = 4 + 3 * X + np.random.rand(100, 1)"
   ]
  },
  {
   "cell_type": "code",
   "execution_count": 8,
   "metadata": {},
   "outputs": [
    {
     "data": {
      "text/plain": [
       "array([[ 9.0026072 ],\n",
       "       [ 5.83187939],\n",
       "       [ 6.4300663 ],\n",
       "       [ 7.0938613 ],\n",
       "       [ 5.04027133],\n",
       "       [ 5.98778426],\n",
       "       [ 6.81211576],\n",
       "       [ 4.61066019],\n",
       "       [10.61290112],\n",
       "       [ 7.4482555 ],\n",
       "       [ 5.35139832],\n",
       "       [10.32715467],\n",
       "       [10.13391541],\n",
       "       [ 8.55639917],\n",
       "       [ 7.0519273 ],\n",
       "       [ 7.85474409],\n",
       "       [ 8.73329233],\n",
       "       [ 9.98614149],\n",
       "       [ 8.30042497],\n",
       "       [ 9.85939037],\n",
       "       [ 6.56536503],\n",
       "       [ 6.2343391 ],\n",
       "       [ 9.41875719],\n",
       "       [ 5.81965293],\n",
       "       [ 5.30008816],\n",
       "       [ 6.36026721],\n",
       "       [ 5.04621757],\n",
       "       [ 8.92404432],\n",
       "       [ 5.21416857],\n",
       "       [ 8.16500912],\n",
       "       [10.20798601],\n",
       "       [ 4.25891151],\n",
       "       [ 9.59056789],\n",
       "       [ 9.68646505],\n",
       "       [ 6.14108077],\n",
       "       [ 8.23836041],\n",
       "       [10.03993921],\n",
       "       [10.32355556],\n",
       "       [10.55223893],\n",
       "       [ 6.46047068],\n",
       "       [ 8.84182268],\n",
       "       [ 7.341352  ],\n",
       "       [ 9.29777268],\n",
       "       [ 8.80353832],\n",
       "       [ 4.93938342],\n",
       "       [ 9.87961622],\n",
       "       [ 8.49797423],\n",
       "       [ 5.49719558],\n",
       "       [ 7.85580414],\n",
       "       [ 8.56548858],\n",
       "       [10.41195477],\n",
       "       [ 6.30652953],\n",
       "       [ 5.16535699],\n",
       "       [ 6.29040339],\n",
       "       [ 8.76978537],\n",
       "       [ 6.29673104],\n",
       "       [10.23183844],\n",
       "       [ 6.19161738],\n",
       "       [ 6.94512068],\n",
       "       [ 6.12378547],\n",
       "       [ 5.04018012],\n",
       "       [ 8.0560257 ],\n",
       "       [ 9.33080971],\n",
       "       [10.03422474],\n",
       "       [ 7.45674747],\n",
       "       [10.49840481],\n",
       "       [ 5.84053788],\n",
       "       [ 5.68039979],\n",
       "       [ 7.48288887],\n",
       "       [ 5.91682901],\n",
       "       [ 6.73033306],\n",
       "       [ 8.33814854],\n",
       "       [ 5.37871228],\n",
       "       [ 9.05294531],\n",
       "       [ 5.54733899],\n",
       "       [ 7.2937055 ],\n",
       "       [ 5.67814484],\n",
       "       [10.02482011],\n",
       "       [ 8.5914133 ],\n",
       "       [ 4.65427305],\n",
       "       [ 9.44581285],\n",
       "       [10.58028976],\n",
       "       [ 9.64016707],\n",
       "       [ 4.51544835],\n",
       "       [ 7.1043019 ],\n",
       "       [ 7.91998422],\n",
       "       [ 5.79817475],\n",
       "       [ 5.18166438],\n",
       "       [ 6.0058482 ],\n",
       "       [ 7.70400585],\n",
       "       [ 5.37626516],\n",
       "       [ 8.52222268],\n",
       "       [ 5.87795358],\n",
       "       [ 5.36286666],\n",
       "       [ 7.01020823],\n",
       "       [10.7366479 ],\n",
       "       [ 5.84388844],\n",
       "       [ 8.49213671],\n",
       "       [ 7.98299487],\n",
       "       [10.23148604]])"
      ]
     },
     "execution_count": 8,
     "metadata": {},
     "output_type": "execute_result"
    }
   ],
   "source": [
    "y"
   ]
  },
  {
   "cell_type": "code",
   "execution_count": 9,
   "metadata": {},
   "outputs": [],
   "source": [
    "X_b = np.c_[np.ones((100, 1)), X]  # add x0 = 1 to each instance"
   ]
  },
  {
   "cell_type": "code",
   "execution_count": 10,
   "metadata": {},
   "outputs": [
    {
     "data": {
      "text/plain": [
       "array([[1.        , 1.59274489],\n",
       "       [1.        , 0.3179149 ],\n",
       "       [1.        , 0.60380703],\n",
       "       [1.        , 0.9651579 ],\n",
       "       [1.        , 0.17982474],\n",
       "       [1.        , 0.49394083],\n",
       "       [1.        , 0.61141786],\n",
       "       [1.        , 0.13895873],\n",
       "       [1.        , 1.96566617],\n",
       "       [1.        , 1.12773071],\n",
       "       [1.        , 0.37514627],\n",
       "       [1.        , 1.83518225],\n",
       "       [1.        , 1.89969322],\n",
       "       [1.        , 1.19616268],\n",
       "       [1.        , 0.7758833 ],\n",
       "       [1.        , 1.17823719],\n",
       "       [1.        , 1.40419315],\n",
       "       [1.        , 1.93713078],\n",
       "       [1.        , 1.27972014],\n",
       "       [1.        , 1.80344986],\n",
       "       [1.        , 0.52204316],\n",
       "       [1.        , 0.55068347],\n",
       "       [1.        , 1.58401939],\n",
       "       [1.        , 0.33874659],\n",
       "       [1.        , 0.24107273],\n",
       "       [1.        , 0.77237531],\n",
       "       [1.        , 0.14715199],\n",
       "       [1.        , 1.57640081],\n",
       "       [1.        , 0.33843534],\n",
       "       [1.        , 1.22369697],\n",
       "       [1.        , 1.73862707],\n",
       "       [1.        , 0.07761464],\n",
       "       [1.        , 1.53175922],\n",
       "       [1.        , 1.83986011],\n",
       "       [1.        , 0.67921123],\n",
       "       [1.        , 1.15282302],\n",
       "       [1.        , 1.94776427],\n",
       "       [1.        , 1.8378722 ],\n",
       "       [1.        , 1.92178792],\n",
       "       [1.        , 0.50659223],\n",
       "       [1.        , 1.41166975],\n",
       "       [1.        , 0.99616263],\n",
       "       [1.        , 1.67234831],\n",
       "       [1.        , 1.30880425],\n",
       "       [1.        , 0.16295703],\n",
       "       [1.        , 1.86771254],\n",
       "       [1.        , 1.34672397],\n",
       "       [1.        , 0.16851446],\n",
       "       [1.        , 1.11242377],\n",
       "       [1.        , 1.26507532],\n",
       "       [1.        , 1.95896901],\n",
       "       [1.        , 0.50613453],\n",
       "       [1.        , 0.11840658],\n",
       "       [1.        , 0.75445806],\n",
       "       [1.        , 1.43788851],\n",
       "       [1.        , 0.63155905],\n",
       "       [1.        , 1.89945823],\n",
       "       [1.        , 0.68495668],\n",
       "       [1.        , 0.76357662],\n",
       "       [1.        , 0.57964969],\n",
       "       [1.        , 0.33663712],\n",
       "       [1.        , 1.345629  ],\n",
       "       [1.        , 1.57204583],\n",
       "       [1.        , 1.76300285],\n",
       "       [1.        , 1.07534608],\n",
       "       [1.        , 1.91871534],\n",
       "       [1.        , 0.6075432 ],\n",
       "       [1.        , 0.23955836],\n",
       "       [1.        , 0.90374837],\n",
       "       [1.        , 0.56281682],\n",
       "       [1.        , 0.90889198],\n",
       "       [1.        , 1.12423708],\n",
       "       [1.        , 0.40634489],\n",
       "       [1.        , 1.47032853],\n",
       "       [1.        , 0.37852032],\n",
       "       [1.        , 1.0878477 ],\n",
       "       [1.        , 0.47830881],\n",
       "       [1.        , 1.70940764],\n",
       "       [1.        , 1.32154876],\n",
       "       [1.        , 0.17594932],\n",
       "       [1.        , 1.80573277],\n",
       "       [1.        , 1.86587853],\n",
       "       [1.        , 1.60945613],\n",
       "       [1.        , 0.12674589],\n",
       "       [1.        , 0.90525769],\n",
       "       [1.        , 0.97761669],\n",
       "       [1.        , 0.40507833],\n",
       "       [1.        , 0.10215888],\n",
       "       [1.        , 0.58554483],\n",
       "       [1.        , 1.05088668],\n",
       "       [1.        , 0.33023948],\n",
       "       [1.        , 1.22081609],\n",
       "       [1.        , 0.44676743],\n",
       "       [1.        , 0.31879921],\n",
       "       [1.        , 0.87980201],\n",
       "       [1.        , 1.94733143],\n",
       "       [1.        , 0.29137395],\n",
       "       [1.        , 1.3953634 ],\n",
       "       [1.        , 1.06508136],\n",
       "       [1.        , 1.85758205]])"
      ]
     },
     "execution_count": 10,
     "metadata": {},
     "output_type": "execute_result"
    }
   ],
   "source": [
    "X_b"
   ]
  },
  {
   "cell_type": "code",
   "execution_count": 11,
   "metadata": {},
   "outputs": [],
   "source": [
    "theta_best = np.linalg.inv(X_b.T.dot(X_b)).dot(X_b.T).dot(y)"
   ]
  },
  {
   "cell_type": "code",
   "execution_count": 12,
   "metadata": {},
   "outputs": [
    {
     "data": {
      "text/plain": [
       "array([[4.45658574],\n",
       "       [3.05748442]])"
      ]
     },
     "execution_count": 12,
     "metadata": {},
     "output_type": "execute_result"
    }
   ],
   "source": [
    "theta_best"
   ]
  },
  {
   "cell_type": "code",
   "execution_count": 13,
   "metadata": {},
   "outputs": [
    {
     "data": {
      "text/plain": [
       "array([[1.        , 1.        , 1.        , 1.        , 1.        ,\n",
       "        1.        , 1.        , 1.        , 1.        , 1.        ,\n",
       "        1.        , 1.        , 1.        , 1.        , 1.        ,\n",
       "        1.        , 1.        , 1.        , 1.        , 1.        ,\n",
       "        1.        , 1.        , 1.        , 1.        , 1.        ,\n",
       "        1.        , 1.        , 1.        , 1.        , 1.        ,\n",
       "        1.        , 1.        , 1.        , 1.        , 1.        ,\n",
       "        1.        , 1.        , 1.        , 1.        , 1.        ,\n",
       "        1.        , 1.        , 1.        , 1.        , 1.        ,\n",
       "        1.        , 1.        , 1.        , 1.        , 1.        ,\n",
       "        1.        , 1.        , 1.        , 1.        , 1.        ,\n",
       "        1.        , 1.        , 1.        , 1.        , 1.        ,\n",
       "        1.        , 1.        , 1.        , 1.        , 1.        ,\n",
       "        1.        , 1.        , 1.        , 1.        , 1.        ,\n",
       "        1.        , 1.        , 1.        , 1.        , 1.        ,\n",
       "        1.        , 1.        , 1.        , 1.        , 1.        ,\n",
       "        1.        , 1.        , 1.        , 1.        , 1.        ,\n",
       "        1.        , 1.        , 1.        , 1.        , 1.        ,\n",
       "        1.        , 1.        , 1.        , 1.        , 1.        ,\n",
       "        1.        , 1.        , 1.        , 1.        , 1.        ],\n",
       "       [1.59274489, 0.3179149 , 0.60380703, 0.9651579 , 0.17982474,\n",
       "        0.49394083, 0.61141786, 0.13895873, 1.96566617, 1.12773071,\n",
       "        0.37514627, 1.83518225, 1.89969322, 1.19616268, 0.7758833 ,\n",
       "        1.17823719, 1.40419315, 1.93713078, 1.27972014, 1.80344986,\n",
       "        0.52204316, 0.55068347, 1.58401939, 0.33874659, 0.24107273,\n",
       "        0.77237531, 0.14715199, 1.57640081, 0.33843534, 1.22369697,\n",
       "        1.73862707, 0.07761464, 1.53175922, 1.83986011, 0.67921123,\n",
       "        1.15282302, 1.94776427, 1.8378722 , 1.92178792, 0.50659223,\n",
       "        1.41166975, 0.99616263, 1.67234831, 1.30880425, 0.16295703,\n",
       "        1.86771254, 1.34672397, 0.16851446, 1.11242377, 1.26507532,\n",
       "        1.95896901, 0.50613453, 0.11840658, 0.75445806, 1.43788851,\n",
       "        0.63155905, 1.89945823, 0.68495668, 0.76357662, 0.57964969,\n",
       "        0.33663712, 1.345629  , 1.57204583, 1.76300285, 1.07534608,\n",
       "        1.91871534, 0.6075432 , 0.23955836, 0.90374837, 0.56281682,\n",
       "        0.90889198, 1.12423708, 0.40634489, 1.47032853, 0.37852032,\n",
       "        1.0878477 , 0.47830881, 1.70940764, 1.32154876, 0.17594932,\n",
       "        1.80573277, 1.86587853, 1.60945613, 0.12674589, 0.90525769,\n",
       "        0.97761669, 0.40507833, 0.10215888, 0.58554483, 1.05088668,\n",
       "        0.33023948, 1.22081609, 0.44676743, 0.31879921, 0.87980201,\n",
       "        1.94733143, 0.29137395, 1.3953634 , 1.06508136, 1.85758205]])"
      ]
     },
     "execution_count": 13,
     "metadata": {},
     "output_type": "execute_result"
    }
   ],
   "source": [
    "X_b.T"
   ]
  },
  {
   "cell_type": "code",
   "execution_count": 14,
   "metadata": {},
   "outputs": [
    {
     "data": {
      "text/plain": [
       "array([[100.        , 101.43189006],\n",
       "       [101.43189006, 138.76891704]])"
      ]
     },
     "execution_count": 14,
     "metadata": {},
     "output_type": "execute_result"
    }
   ],
   "source": [
    "X_b.T.dot(X_b)"
   ]
  },
  {
   "cell_type": "code",
   "execution_count": 15,
   "metadata": {},
   "outputs": [],
   "source": [
    "%matplotlib inline"
   ]
  },
  {
   "cell_type": "code",
   "execution_count": 16,
   "metadata": {},
   "outputs": [],
   "source": [
    "import matplotlib.pyplot as plt"
   ]
  },
  {
   "cell_type": "code",
   "execution_count": 24,
   "metadata": {},
   "outputs": [
    {
     "data": {
      "text/plain": [
       "[<matplotlib.lines.Line2D at 0xea1cd90>]"
      ]
     },
     "execution_count": 24,
     "metadata": {},
     "output_type": "execute_result"
    },
    {
     "data": {
      "image/png": "[encoded data removed]",
      "text/plain": [
       "<Figure size 432x288 with 1 Axes>"
      ]
     },
     "metadata": {},
     "output_type": "display_data"
    }
   ],
   "source": [
    "plt.plot(X, y, '.')"
   ]
  },
  {
   "cell_type": "code",
   "execution_count": null,
   "metadata": {},
   "outputs": [],
   "source": []
  },
  {
   "cell_type": "code",
   "execution_count": null,
   "metadata": {},
   "outputs": [],
   "source": []
  },
  {
   "cell_type": "code",
   "execution_count": null,
   "metadata": {},
   "outputs": [],
   "source": []
  },
  {
   "cell_type": "code",
   "execution_count": null,
   "metadata": {},
   "outputs": [],
   "source": []
  }
 ],
 "metadata": {
  "kernelspec": {
   "display_name": "Python 3",
   "language": "python",
   "name": "python3"
  },
  "language_info": {
   "codemirror_mode": {
    "name": "ipython",
    "version": 3
   },
   "file_extension": ".py",
   "mimetype": "text/x-python",
   "name": "python",
   "nbconvert_exporter": "python",
   "pygments_lexer": "ipython3",
   "version": "3.6.2"
  }
 },
 "nbformat": 4,
 "nbformat_minor": 2
}
